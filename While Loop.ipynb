{
 "cells": [
  {
   "cell_type": "markdown",
   "id": "dadc845f",
   "metadata": {},
   "source": [
    "# While Loop"
   ]
  },
  {
   "cell_type": "markdown",
   "id": "3711c2e9",
   "metadata": {},
   "source": [
    "The while loop is used when we don't know the number of times it will repeat. If that number is infinite, or the Boolean condition of the loop never gets set to False, then it will run forever."
   ]
  },
  {
   "cell_type": "code",
   "execution_count": 5,
   "id": "1a8da85c",
   "metadata": {},
   "outputs": [
    {
     "name": "stdout",
     "output_type": "stream",
     "text": [
      "0\n",
      "1\n",
      "2\n",
      "3\n",
      "4\n",
      "5\n",
      "6\n",
      "7\n",
      "8\n",
      "9\n"
     ]
    }
   ],
   "source": [
    "number = 0\n",
    "\n",
    "while number  < 10:\n",
    "    print(number)\n",
    "    number = number +1\n",
    "    "
   ]
  },
  {
   "cell_type": "code",
   "execution_count": 6,
   "id": "bd432f6e",
   "metadata": {},
   "outputs": [
    {
     "name": "stdout",
     "output_type": "stream",
     "text": [
      "0\n",
      "1\n",
      "2\n",
      "3\n",
      "4\n",
      "5\n",
      "6\n",
      "7\n",
      "8\n",
      "9\n",
      "No Longer < 10\n"
     ]
    }
   ],
   "source": [
    "number = 0\n",
    "\n",
    "while number  < 10:\n",
    "    print(number)\n",
    "    if number == 12:\n",
    "        break\n",
    "    number = number +1\n",
    "else:\n",
    "    print('No Longer < 10')"
   ]
  },
  {
   "cell_type": "code",
   "execution_count": 7,
   "id": "c2e762a4",
   "metadata": {},
   "outputs": [
    {
     "name": "stdout",
     "output_type": "stream",
     "text": [
      "0\n",
      "1\n",
      "2\n",
      "3\n",
      "4\n",
      "5\n",
      "6\n"
     ]
    }
   ],
   "source": [
    "number = 0\n",
    "\n",
    "while number  < 10:\n",
    "    print(number)\n",
    "    if number == 6:\n",
    "        break\n",
    "    number = number +1\n",
    "else:\n",
    "    print('No Longer < 10')"
   ]
  },
  {
   "cell_type": "code",
   "execution_count": null,
   "id": "a1086a85",
   "metadata": {},
   "outputs": [],
   "source": []
  }
 ],
 "metadata": {
  "kernelspec": {
   "display_name": "Python 3 (ipykernel)",
   "language": "python",
   "name": "python3"
  },
  "language_info": {
   "codemirror_mode": {
    "name": "ipython",
    "version": 3
   },
   "file_extension": ".py",
   "mimetype": "text/x-python",
   "name": "python",
   "nbconvert_exporter": "python",
   "pygments_lexer": "ipython3",
   "version": "3.10.9"
  }
 },
 "nbformat": 4,
 "nbformat_minor": 5
}
