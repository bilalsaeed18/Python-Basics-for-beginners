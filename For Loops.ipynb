{
 "cells": [
  {
   "cell_type": "markdown",
   "id": "96f18007",
   "metadata": {},
   "source": [
    "# FOR LOOPS"
   ]
  },
  {
   "cell_type": "code",
   "execution_count": 1,
   "id": "bbe362e5",
   "metadata": {},
   "outputs": [],
   "source": [
    "integars = [1,2,3,4,5]"
   ]
  },
  {
   "cell_type": "code",
   "execution_count": 2,
   "id": "0d76f21e",
   "metadata": {},
   "outputs": [
    {
     "name": "stdout",
     "output_type": "stream",
     "text": [
      "1\n",
      "2\n",
      "3\n",
      "4\n",
      "5\n"
     ]
    }
   ],
   "source": [
    "for number in integars:\n",
    "    print(number)"
   ]
  },
  {
   "cell_type": "code",
   "execution_count": 3,
   "id": "30e5984d",
   "metadata": {},
   "outputs": [
    {
     "name": "stdout",
     "output_type": "stream",
     "text": [
      "happy\n",
      "happy\n",
      "happy\n",
      "happy\n",
      "happy\n"
     ]
    }
   ],
   "source": [
    "for number in integars:\n",
    "    print(\"happy\")"
   ]
  },
  {
   "cell_type": "code",
   "execution_count": 4,
   "id": "280d3975",
   "metadata": {},
   "outputs": [
    {
     "name": "stdout",
     "output_type": "stream",
     "text": [
      "2\n",
      "4\n",
      "6\n",
      "8\n",
      "10\n"
     ]
    }
   ],
   "source": [
    "for beam in integars:\n",
    "    print(beam+beam)"
   ]
  },
  {
   "cell_type": "code",
   "execution_count": 5,
   "id": "21a29f5e",
   "metadata": {},
   "outputs": [],
   "source": [
    "dic_produt = {'name':'Bilal','Product_Name':'Ice Cream','Company':['Walls','Pops']}"
   ]
  },
  {
   "cell_type": "code",
   "execution_count": 6,
   "id": "7cedd069",
   "metadata": {},
   "outputs": [
    {
     "name": "stdout",
     "output_type": "stream",
     "text": [
      "Bilal\n",
      "Ice Cream\n",
      "['Walls', 'Pops']\n"
     ]
    }
   ],
   "source": [
    "for product in dic_produt.values():\n",
    "    print(product)"
   ]
  },
  {
   "cell_type": "code",
   "execution_count": 8,
   "id": "6f064ea1",
   "metadata": {},
   "outputs": [
    {
     "name": "stdout",
     "output_type": "stream",
     "text": [
      "name -> Bilal\n",
      "Product_Name -> Ice Cream\n",
      "Company -> ['Walls', 'Pops']\n"
     ]
    }
   ],
   "source": [
    "for key,value in dic_produt.items():\n",
    "    print(key, '->',value)"
   ]
  },
  {
   "cell_type": "markdown",
   "id": "9fc14b76",
   "metadata": {},
   "source": [
    "# Nested For Loops"
   ]
  },
  {
   "cell_type": "code",
   "execution_count": 9,
   "id": "b83ef741",
   "metadata": {},
   "outputs": [],
   "source": [
    "flavors = ['vanilla', 'berry', 'chocolate']\n",
    "topping = ['Hot fudge','oreo','jelly']"
   ]
  },
  {
   "cell_type": "code",
   "execution_count": 10,
   "id": "7a66e616",
   "metadata": {},
   "outputs": [
    {
     "name": "stdout",
     "output_type": "stream",
     "text": [
      "vanilla topped with Hot fudge\n",
      "vanilla topped with oreo\n",
      "vanilla topped with jelly\n",
      "berry topped with Hot fudge\n",
      "berry topped with oreo\n",
      "berry topped with jelly\n",
      "chocolate topped with Hot fudge\n",
      "chocolate topped with oreo\n",
      "chocolate topped with jelly\n"
     ]
    }
   ],
   "source": [
    "for one in flavors:\n",
    "    for two in topping:\n",
    "        print(one, 'topped with', two)"
   ]
  },
  {
   "cell_type": "code",
   "execution_count": null,
   "id": "974ee5b4",
   "metadata": {},
   "outputs": [],
   "source": []
  }
 ],
 "metadata": {
  "kernelspec": {
   "display_name": "Python 3 (ipykernel)",
   "language": "python",
   "name": "python3"
  },
  "language_info": {
   "codemirror_mode": {
    "name": "ipython",
    "version": 3
   },
   "file_extension": ".py",
   "mimetype": "text/x-python",
   "name": "python",
   "nbconvert_exporter": "python",
   "pygments_lexer": "ipython3",
   "version": "3.10.9"
  }
 },
 "nbformat": 4,
 "nbformat_minor": 5
}
