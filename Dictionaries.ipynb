{
 "cells": [
  {
   "cell_type": "markdown",
   "id": "77c92909-c723-413a-9ab7-2e93a2b663fa",
   "metadata": {},
   "source": [
    "Dictionaries"
   ]
  },
  {
   "cell_type": "markdown",
   "id": "5e7e98de-7c79-4893-a58b-253e895d2f77",
   "metadata": {},
   "source": [
    "A dictionary is a data type similar to arrays, but works with keys and values instead of indexes. Each value stored in a dictionary can be accessed using a key, which is any type of object (a string, a number, a list, etc.) instead of using its index to address it."
   ]
  },
  {
   "cell_type": "code",
   "execution_count": 2,
   "id": "f039d8fb-20f9-40db-8d06-9e56d98d6369",
   "metadata": {},
   "outputs": [
    {
     "name": "stdout",
     "output_type": "stream",
     "text": [
      "{'John': 10, 'Jack': 12, 'Jill': 15}\n"
     ]
    }
   ],
   "source": [
    "phonebook = {}\n",
    "phonebook[\"John\"] = 10\n",
    "phonebook[\"Jack\"] = 12\n",
    "phonebook[\"Jill\"] = 15\n",
    "print(phonebook)"
   ]
  },
  {
   "cell_type": "code",
   "execution_count": 4,
   "id": "c82d737d-3dda-47d4-9d8f-9a83d57a4717",
   "metadata": {},
   "outputs": [
    {
     "name": "stdout",
     "output_type": "stream",
     "text": [
      "{'John': 10, 'Jack': 12, 'Jill': 15}\n"
     ]
    }
   ],
   "source": [
    "phonebook = {\n",
    "    \"John\" : 10,\n",
    "    \"Jack\" : 12,\n",
    "    \"Jill\" : 15\n",
    "}\n",
    "print(phonebook)"
   ]
  },
  {
   "cell_type": "code",
   "execution_count": 5,
   "id": "603593f7-4a2f-4cbf-9921-e6f76add0719",
   "metadata": {},
   "outputs": [
    {
     "name": "stdout",
     "output_type": "stream",
     "text": [
      "{'John': 10, 'Jill': 15}\n"
     ]
    }
   ],
   "source": [
    "phonebook = {\n",
    "    \"John\" : 10,\n",
    "    \"Jack\" : 12,\n",
    "    \"Jill\" : 15\n",
    "}\n",
    "del phonebook[\"Jack\"]\n",
    "print(phonebook)"
   ]
  },
  {
   "cell_type": "code",
   "execution_count": null,
   "id": "290e9068-4d48-40fe-aad8-5b05cc04833d",
   "metadata": {},
   "outputs": [],
   "source": [
    "phonebook = {\n",
    "   \"John\" : 938477566,\n",
    "   \"Jack\" : 938377264,\n",
    "   \"Jill\" : 947662781\n",
    "}\n",
    "phonebook.pop(\"John\")\n",
    "print(phonebook)"
   ]
  }
 ],
 "metadata": {
  "kernelspec": {
   "display_name": "Python 3 (ipykernel)",
   "language": "python",
   "name": "python3"
  },
  "language_info": {
   "codemirror_mode": {
    "name": "ipython",
    "version": 3
   },
   "file_extension": ".py",
   "mimetype": "text/x-python",
   "name": "python",
   "nbconvert_exporter": "python",
   "pygments_lexer": "ipython3",
   "version": "3.12.4"
  }
 },
 "nbformat": 4,
 "nbformat_minor": 5
}
