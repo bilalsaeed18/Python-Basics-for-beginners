{
 "cells": [
  {
   "cell_type": "markdown",
   "id": "b28363b7",
   "metadata": {},
   "source": [
    "# IF - ELSE Statement"
   ]
  },
  {
   "cell_type": "code",
   "execution_count": 1,
   "id": "8f01ca6c",
   "metadata": {},
   "outputs": [
    {
     "name": "stdout",
     "output_type": "stream",
     "text": [
      "Worked\n"
     ]
    }
   ],
   "source": [
    "if 25 > 10:\n",
    "    print('Worked')\n",
    "    "
   ]
  },
  {
   "cell_type": "code",
   "execution_count": 4,
   "id": "298c23e0",
   "metadata": {},
   "outputs": [
    {
     "name": "stdout",
     "output_type": "stream",
     "text": [
      "Not Worked\n"
     ]
    }
   ],
   "source": [
    "if 25 < 10:\n",
    "    print('Worked')\n",
    "else: \n",
    "    print('Not Worked')"
   ]
  },
  {
   "cell_type": "code",
   "execution_count": 1,
   "id": "4faaf419",
   "metadata": {},
   "outputs": [
    {
     "name": "stdout",
     "output_type": "stream",
     "text": [
      "Elif worked\n"
     ]
    }
   ],
   "source": [
    "if 25 < 10:\n",
    "    print('Worked')\n",
    "elif 25 < 30:\n",
    "    print('Elif worked')\n",
    "else: \n",
    "    print('Not Worked')"
   ]
  },
  {
   "cell_type": "code",
   "execution_count": 3,
   "id": "7f1c7c37",
   "metadata": {},
   "outputs": [
    {
     "name": "stdout",
     "output_type": "stream",
     "text": [
      "Worked\n"
     ]
    }
   ],
   "source": [
    "if (25 < 10) or (1 < 3):\n",
    "    print('Worked')\n",
    "elif 25 < 20:\n",
    "    print('Elif worked 1')\n",
    "elif 25 < 22:\n",
    "    print('Elif worked 2')\n",
    "elif 25 < 30:\n",
    "    print('Elif worked 3')\n",
    "elif 25 < 50:\n",
    "    print('Elif worked 4')\n",
    "else: \n",
    "    print('Not Worked')"
   ]
  },
  {
   "cell_type": "code",
   "execution_count": 4,
   "id": "e2175580",
   "metadata": {},
   "outputs": [
    {
     "name": "stdout",
     "output_type": "stream",
     "text": [
      "It Worked\n",
      "Nested if statement works\n"
     ]
    }
   ],
   "source": [
    "if (25 < 10) or (1 < 5):\n",
    "    print('It Worked')\n",
    "    if 10 > 5:\n",
    "        print('Nested if statement works')\n",
    "elif 25 < 20:\n",
    "    print('Elif worked 1')\n",
    "elif 25 < 22:\n",
    "    print('Elif worked 2')\n",
    "elif 25 < 30:\n",
    "    print('Elif worked 3')\n",
    "elif 25 < 50:\n",
    "    print('Elif worked 4')\n",
    "else: \n",
    "    print('Not Worked')"
   ]
  },
  {
   "cell_type": "code",
   "execution_count": null,
   "id": "21a976fa",
   "metadata": {},
   "outputs": [],
   "source": []
  }
 ],
 "metadata": {
  "kernelspec": {
   "display_name": "Python 3 (ipykernel)",
   "language": "python",
   "name": "python3"
  },
  "language_info": {
   "codemirror_mode": {
    "name": "ipython",
    "version": 3
   },
   "file_extension": ".py",
   "mimetype": "text/x-python",
   "name": "python",
   "nbconvert_exporter": "python",
   "pygments_lexer": "ipython3",
   "version": "3.10.9"
  }
 },
 "nbformat": 4,
 "nbformat_minor": 5
}
