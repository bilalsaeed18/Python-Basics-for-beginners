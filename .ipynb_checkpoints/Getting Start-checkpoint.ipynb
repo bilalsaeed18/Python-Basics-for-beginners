{
 "cells": [
  {
   "cell_type": "markdown",
   "id": "8a1c0dcf",
   "metadata": {},
   "source": [
    "# First Notebook"
   ]
  },
  {
   "cell_type": "code",
   "execution_count": 1,
   "id": "abaf0551",
   "metadata": {},
   "outputs": [
    {
     "name": "stdout",
     "output_type": "stream",
     "text": [
      "Hello world\n"
     ]
    }
   ],
   "source": [
    "print(\"Hello world\")"
   ]
  },
  {
   "cell_type": "markdown",
   "id": "c806792a",
   "metadata": {},
   "source": [
    "\n",
    "# Python"
   ]
  },
  {
   "cell_type": "markdown",
   "id": "a27f0477",
   "metadata": {},
   "source": [
    "Python is an interpreted, object-oriented, high-level programming language with dynamic semantics. Its high-level built in data structures, combined with dynamic typing and dynamic binding, make it very attractive for Rapid Application Development, as well as for use as a scripting or glue language to connect existing components together. Python's simple, easy to learn syntax emphasizes readability and therefore reduces the cost of program maintenance. Python supports modules and packages, which encourages program modularity and code reuse. The Python interpreter and the extensive standard library are available in source or binary form without charge for all major platforms, and can be freely distributed."
   ]
  },
  {
   "cell_type": "markdown",
   "id": "c182f4c5",
   "metadata": {},
   "source": [
    "# Topics to be covered"
   ]
  },
  {
   "cell_type": "markdown",
   "id": "ef7a6739",
   "metadata": {},
   "source": [
    "1) Variables\n",
    "2) Data Types\n",
    "3) Comparisons and logick operators\n",
    "4) IF-ELSE Statements\n",
    "5) Loops\n",
    "6) While Loop\n",
    "7) Functions"
   ]
  },
  {
   "cell_type": "code",
   "execution_count": null,
   "id": "f82ccea9",
   "metadata": {},
   "outputs": [],
   "source": []
  }
 ],
 "metadata": {
  "kernelspec": {
   "display_name": "Python 3 (ipykernel)",
   "language": "python",
   "name": "python3"
  },
  "language_info": {
   "codemirror_mode": {
    "name": "ipython",
    "version": 3
   },
   "file_extension": ".py",
   "mimetype": "text/x-python",
   "name": "python",
   "nbconvert_exporter": "python",
   "pygments_lexer": "ipython3",
   "version": "3.10.9"
  }
 },
 "nbformat": 4,
 "nbformat_minor": 5
}
