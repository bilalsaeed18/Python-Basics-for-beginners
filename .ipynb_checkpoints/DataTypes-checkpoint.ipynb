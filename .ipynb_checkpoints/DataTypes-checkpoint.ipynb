{
 "cells": [
  {
   "cell_type": "markdown",
   "id": "b1120220",
   "metadata": {},
   "source": [
    "# Data Type\n"
   ]
  },
  {
   "cell_type": "markdown",
   "id": "10a998fa",
   "metadata": {},
   "source": [
    "Python Data Types are used to define the type of a variable. In this article, we’ll list out all the data types and discussion the functionality of each. "
   ]
  },
  {
   "cell_type": "code",
   "execution_count": 2,
   "id": "d10f2c22",
   "metadata": {},
   "outputs": [
    {
     "data": {
      "text/plain": [
       "float"
      ]
     },
     "execution_count": 2,
     "metadata": {},
     "output_type": "execute_result"
    }
   ],
   "source": [
    "type(12.8 + 90)"
   ]
  },
  {
   "cell_type": "code",
   "execution_count": 3,
   "id": "5fd9ae87",
   "metadata": {},
   "outputs": [
    {
     "data": {
      "text/plain": [
       "int"
      ]
     },
     "execution_count": 3,
     "metadata": {},
     "output_type": "execute_result"
    }
   ],
   "source": [
    "type(10)"
   ]
  },
  {
   "cell_type": "code",
   "execution_count": 4,
   "id": "2ab00e62",
   "metadata": {},
   "outputs": [
    {
     "data": {
      "text/plain": [
       "bool"
      ]
     },
     "execution_count": 4,
     "metadata": {},
     "output_type": "execute_result"
    }
   ],
   "source": [
    "#boolean\n",
    "\n",
    "type ( 1 > 5)"
   ]
  },
  {
   "cell_type": "code",
   "execution_count": 5,
   "id": "90e7d70c",
   "metadata": {},
   "outputs": [
    {
     "data": {
      "text/plain": [
       "True"
      ]
     },
     "execution_count": 5,
     "metadata": {},
     "output_type": "execute_result"
    }
   ],
   "source": [
    "1 < 5"
   ]
  },
  {
   "cell_type": "code",
   "execution_count": 6,
   "id": "662502af",
   "metadata": {},
   "outputs": [
    {
     "data": {
      "text/plain": [
       "True"
      ]
     },
     "execution_count": 6,
     "metadata": {},
     "output_type": "execute_result"
    }
   ],
   "source": [
    "1 == 1"
   ]
  },
  {
   "cell_type": "code",
   "execution_count": 7,
   "id": "b0e87d9b",
   "metadata": {},
   "outputs": [
    {
     "data": {
      "text/plain": [
       "'This is text'"
      ]
     },
     "execution_count": 7,
     "metadata": {},
     "output_type": "execute_result"
    }
   ],
   "source": [
    "# Strings\n",
    "\n",
    "'This is text'\n"
   ]
  },
  {
   "cell_type": "code",
   "execution_count": 8,
   "id": "7b25c3d5",
   "metadata": {},
   "outputs": [
    {
     "data": {
      "text/plain": [
       "str"
      ]
     },
     "execution_count": 8,
     "metadata": {},
     "output_type": "execute_result"
    }
   ],
   "source": [
    "type('This is text')"
   ]
  },
  {
   "cell_type": "code",
   "execution_count": 9,
   "id": "d625096c",
   "metadata": {},
   "outputs": [],
   "source": [
    "a = 'hello world!'"
   ]
  },
  {
   "cell_type": "code",
   "execution_count": 10,
   "id": "8fc994ad",
   "metadata": {},
   "outputs": [
    {
     "name": "stdout",
     "output_type": "stream",
     "text": [
      "hello\n"
     ]
    }
   ],
   "source": [
    "print(a[:5])"
   ]
  },
  {
   "cell_type": "code",
   "execution_count": 11,
   "id": "e62849bd",
   "metadata": {},
   "outputs": [
    {
     "name": "stdout",
     "output_type": "stream",
     "text": [
      "w\n"
     ]
    }
   ],
   "source": [
    "print(a[6])"
   ]
  },
  {
   "cell_type": "code",
   "execution_count": 12,
   "id": "a9005076",
   "metadata": {},
   "outputs": [
    {
     "name": "stdout",
     "output_type": "stream",
     "text": [
      "llo\n"
     ]
    }
   ],
   "source": [
    "print(a[2:5])"
   ]
  },
  {
   "cell_type": "code",
   "execution_count": 13,
   "id": "380d7432",
   "metadata": {},
   "outputs": [
    {
     "data": {
      "text/plain": [
       "'hello world!hello world!hello world!'"
      ]
     },
     "execution_count": 13,
     "metadata": {},
     "output_type": "execute_result"
    }
   ],
   "source": [
    "a *3"
   ]
  },
  {
   "cell_type": "code",
   "execution_count": 14,
   "id": "97a08411",
   "metadata": {},
   "outputs": [
    {
     "data": {
      "text/plain": [
       "'hello world!hello world!'"
      ]
     },
     "execution_count": 14,
     "metadata": {},
     "output_type": "execute_result"
    }
   ],
   "source": [
    "a + a"
   ]
  },
  {
   "cell_type": "markdown",
   "id": "25bd74a1",
   "metadata": {},
   "source": [
    "### List"
   ]
  },
  {
   "cell_type": "code",
   "execution_count": 17,
   "id": "1f37c5ce",
   "metadata": {},
   "outputs": [
    {
     "data": {
      "text/plain": [
       "[1, 2, 3]"
      ]
     },
     "execution_count": 17,
     "metadata": {},
     "output_type": "execute_result"
    }
   ],
   "source": [
    "#List\n",
    "\n",
    "[1,2,3]"
   ]
  },
  {
   "cell_type": "code",
   "execution_count": 18,
   "id": "1ebcc07c",
   "metadata": {},
   "outputs": [
    {
     "data": {
      "text/plain": [
       "['Bilal', 'Orange', 'Chocolae']"
      ]
     },
     "execution_count": 18,
     "metadata": {},
     "output_type": "execute_result"
    }
   ],
   "source": [
    "['Bilal','Orange','Chocolae']"
   ]
  },
  {
   "cell_type": "markdown",
   "id": "f600d2ce",
   "metadata": {},
   "source": [
    "We can add multiple types of data in a list"
   ]
  },
  {
   "cell_type": "code",
   "execution_count": 20,
   "id": "cf4c20b0",
   "metadata": {},
   "outputs": [
    {
     "data": {
      "text/plain": [
       "['Mango', 3, True, ['Babar', 'azam']]"
      ]
     },
     "execution_count": 20,
     "metadata": {},
     "output_type": "execute_result"
    }
   ],
   "source": [
    "['Mango',3,True,['Babar','azam']]"
   ]
  },
  {
   "cell_type": "markdown",
   "id": "40b8ff81",
   "metadata": {},
   "source": [
    "#### We can change of update data in the list anytime by append"
   ]
  },
  {
   "cell_type": "code",
   "execution_count": 21,
   "id": "4bc150b4",
   "metadata": {},
   "outputs": [],
   "source": [
    "ice_cream = ['Bilal','Orange','Chocolae']"
   ]
  },
  {
   "cell_type": "code",
   "execution_count": 22,
   "id": "7a6d69a9",
   "metadata": {},
   "outputs": [],
   "source": [
    "ice_cream = ['Bilal','Orange','Chocolae']\n",
    "\n",
    "ice_cream.append('salted chips')"
   ]
  },
  {
   "cell_type": "code",
   "execution_count": 23,
   "id": "223ca02e",
   "metadata": {},
   "outputs": [
    {
     "data": {
      "text/plain": [
       "['Bilal', 'Orange', 'Chocolae', 'salted chips']"
      ]
     },
     "execution_count": 23,
     "metadata": {},
     "output_type": "execute_result"
    }
   ],
   "source": [
    "ice_cream"
   ]
  },
  {
   "cell_type": "code",
   "execution_count": 24,
   "id": "0b6cb970",
   "metadata": {},
   "outputs": [
    {
     "data": {
      "text/plain": [
       "['Vanilla', 'Orange', 'Chocolae', 'salted chips']"
      ]
     },
     "execution_count": 24,
     "metadata": {},
     "output_type": "execute_result"
    }
   ],
   "source": [
    "ice_cream[0] = 'Vanilla'\n",
    "\n",
    "ice_cream"
   ]
  },
  {
   "cell_type": "code",
   "execution_count": 26,
   "id": "54f668cd",
   "metadata": {},
   "outputs": [
    {
     "data": {
      "text/plain": [
       "['Mango', 3, True, ['Babar', 'azam']]"
      ]
     },
     "execution_count": 26,
     "metadata": {},
     "output_type": "execute_result"
    }
   ],
   "source": [
    "nested_list = ['Mango',3,True,['Babar','azam']]\n",
    "nested_list"
   ]
  },
  {
   "cell_type": "code",
   "execution_count": 31,
   "id": "077d8cef",
   "metadata": {},
   "outputs": [
    {
     "data": {
      "text/plain": [
       "'Babar'"
      ]
     },
     "execution_count": 31,
     "metadata": {},
     "output_type": "execute_result"
    }
   ],
   "source": [
    "nested_list [3][0]"
   ]
  },
  {
   "cell_type": "markdown",
   "id": "21e356b0",
   "metadata": {},
   "source": [
    "### Tuple"
   ]
  },
  {
   "cell_type": "code",
   "execution_count": 5,
   "id": "c6140bac",
   "metadata": {},
   "outputs": [],
   "source": [
    "#tuple\n",
    "\n",
    "tuple_scoops = (1,2,4,6,8)"
   ]
  },
  {
   "cell_type": "code",
   "execution_count": 6,
   "id": "51691a9d",
   "metadata": {},
   "outputs": [
    {
     "data": {
      "text/plain": [
       "tuple"
      ]
     },
     "execution_count": 6,
     "metadata": {},
     "output_type": "execute_result"
    }
   ],
   "source": [
    "type(tuple_scoops)"
   ]
  },
  {
   "cell_type": "markdown",
   "id": "70781504",
   "metadata": {},
   "source": [
    "#### We can not modify tuples"
   ]
  },
  {
   "cell_type": "code",
   "execution_count": 7,
   "id": "01edaea4",
   "metadata": {},
   "outputs": [
    {
     "data": {
      "text/plain": [
       "2"
      ]
     },
     "execution_count": 7,
     "metadata": {},
     "output_type": "execute_result"
    }
   ],
   "source": [
    "tuple_scoops[1]"
   ]
  },
  {
   "cell_type": "code",
   "execution_count": 8,
   "id": "cb07b3f8",
   "metadata": {},
   "outputs": [
    {
     "ename": "AttributeError",
     "evalue": "'tuple' object has no attribute 'append'",
     "output_type": "error",
     "traceback": [
      "\u001b[1;31m---------------------------------------------------------------------------\u001b[0m",
      "\u001b[1;31mAttributeError\u001b[0m                            Traceback (most recent call last)",
      "Cell \u001b[1;32mIn[8], line 1\u001b[0m\n\u001b[1;32m----> 1\u001b[0m \u001b[43mtuple_scoops\u001b[49m\u001b[38;5;241;43m.\u001b[39;49m\u001b[43mappend\u001b[49m(\u001b[38;5;241m2\u001b[39m)\n",
      "\u001b[1;31mAttributeError\u001b[0m: 'tuple' object has no attribute 'append'"
     ]
    }
   ],
   "source": [
    "tuple_scoops.append(2)"
   ]
  },
  {
   "cell_type": "markdown",
   "id": "d12e2f40",
   "metadata": {},
   "source": [
    "### Sets"
   ]
  },
  {
   "cell_type": "code",
   "execution_count": 9,
   "id": "4f2a3003",
   "metadata": {},
   "outputs": [
    {
     "data": {
      "text/plain": [
       "{1, 3, 6}"
      ]
     },
     "execution_count": 9,
     "metadata": {},
     "output_type": "execute_result"
    }
   ],
   "source": [
    "# sets\n",
    "\n",
    "Newspaper = {1,6,3}\n",
    "Newspaper"
   ]
  },
  {
   "cell_type": "code",
   "execution_count": 10,
   "id": "932d5670",
   "metadata": {},
   "outputs": [
    {
     "data": {
      "text/plain": [
       "set"
      ]
     },
     "execution_count": 10,
     "metadata": {},
     "output_type": "execute_result"
    }
   ],
   "source": [
    "type(Newspaper)"
   ]
  },
  {
   "cell_type": "code",
   "execution_count": 11,
   "id": "0dd227b4",
   "metadata": {},
   "outputs": [
    {
     "name": "stdout",
     "output_type": "stream",
     "text": [
      "{1, 2, 3, 4, 5, 6, 8, 9, 77}\n"
     ]
    }
   ],
   "source": [
    "Newspaper_log = {1,2,4,5,77,8,9,6,3,2}\n",
    "print(Newspaper_log)"
   ]
  },
  {
   "cell_type": "code",
   "execution_count": 12,
   "id": "ca80b3f3",
   "metadata": {},
   "outputs": [
    {
     "data": {
      "text/plain": [
       "{1, 2, 3, 4, 5, 6, 7, 8, 9}"
      ]
     },
     "execution_count": 12,
     "metadata": {},
     "output_type": "execute_result"
    }
   ],
   "source": [
    "daily_newspaper = {1,2,3,4,5,6,7,8,9}\n",
    "daily_newspaper"
   ]
  },
  {
   "cell_type": "code",
   "execution_count": 13,
   "id": "206be1c0",
   "metadata": {},
   "outputs": [
    {
     "name": "stdout",
     "output_type": "stream",
     "text": [
      "{1, 2, 3, 4, 5, 6, 7, 8, 9, 77}\n"
     ]
    }
   ],
   "source": [
    "print(Newspaper_log | daily_newspaper )"
   ]
  },
  {
   "cell_type": "code",
   "execution_count": 14,
   "id": "daf91901",
   "metadata": {},
   "outputs": [
    {
     "name": "stdout",
     "output_type": "stream",
     "text": [
      "{1, 2, 3, 4, 5, 6, 8, 9}\n"
     ]
    }
   ],
   "source": [
    "print(Newspaper_log & daily_newspaper )"
   ]
  },
  {
   "cell_type": "code",
   "execution_count": 16,
   "id": "a3c0c071",
   "metadata": {},
   "outputs": [
    {
     "name": "stdout",
     "output_type": "stream",
     "text": [
      "{7, 77}\n"
     ]
    }
   ],
   "source": [
    "print(Newspaper_log ^ daily_newspaper )"
   ]
  },
  {
   "cell_type": "markdown",
   "id": "69998583",
   "metadata": {},
   "source": [
    "### Dictionaries"
   ]
  },
  {
   "cell_type": "code",
   "execution_count": 20,
   "id": "f1ec93d7",
   "metadata": {},
   "outputs": [],
   "source": [
    "#Dictionaries\n",
    "\n",
    "dic_produt = {'name':'Bilal','Product_Name':'Ice Cream','Company':['Walls','Pops']}"
   ]
  },
  {
   "cell_type": "code",
   "execution_count": 21,
   "id": "2612697b",
   "metadata": {},
   "outputs": [
    {
     "name": "stdout",
     "output_type": "stream",
     "text": [
      "{'name': 'Bilal', 'Product_Name': 'Ice Cream', 'Company': ['Walls', 'Pops']}\n"
     ]
    }
   ],
   "source": [
    "print(dic_produt)"
   ]
  },
  {
   "cell_type": "code",
   "execution_count": 22,
   "id": "f1ec1a77",
   "metadata": {},
   "outputs": [
    {
     "data": {
      "text/plain": [
       "dict_values(['Bilal', 'Ice Cream', ['Walls', 'Pops']])"
      ]
     },
     "execution_count": 22,
     "metadata": {},
     "output_type": "execute_result"
    }
   ],
   "source": [
    "dic_produt.values()"
   ]
  },
  {
   "cell_type": "code",
   "execution_count": 23,
   "id": "8943d30b",
   "metadata": {},
   "outputs": [
    {
     "data": {
      "text/plain": [
       "dict_keys(['name', 'Product_Name', 'Company'])"
      ]
     },
     "execution_count": 23,
     "metadata": {},
     "output_type": "execute_result"
    }
   ],
   "source": [
    "dic_produt.keys()"
   ]
  },
  {
   "cell_type": "code",
   "execution_count": 24,
   "id": "958b2ca5",
   "metadata": {},
   "outputs": [
    {
     "data": {
      "text/plain": [
       "dict_items([('name', 'Bilal'), ('Product_Name', 'Ice Cream'), ('Company', ['Walls', 'Pops'])])"
      ]
     },
     "execution_count": 24,
     "metadata": {},
     "output_type": "execute_result"
    }
   ],
   "source": [
    "dic_produt.items()"
   ]
  },
  {
   "cell_type": "code",
   "execution_count": 25,
   "id": "c949935c",
   "metadata": {},
   "outputs": [
    {
     "data": {
      "text/plain": [
       "'Bilal'"
      ]
     },
     "execution_count": 25,
     "metadata": {},
     "output_type": "execute_result"
    }
   ],
   "source": [
    "dic_produt['name']"
   ]
  },
  {
   "cell_type": "code",
   "execution_count": 26,
   "id": "43476c3f",
   "metadata": {},
   "outputs": [
    {
     "name": "stdout",
     "output_type": "stream",
     "text": [
      "{'name': 'Muhammad Bilal', 'Product_Name': 'Ice Cream', 'Company': ['Walls', 'Pops']}\n"
     ]
    }
   ],
   "source": [
    "dic_produt['name'] = 'Muhammad Bilal'\n",
    "\n",
    "print(dic_produt)"
   ]
  },
  {
   "cell_type": "code",
   "execution_count": 28,
   "id": "f44f7e57",
   "metadata": {},
   "outputs": [
    {
     "name": "stdout",
     "output_type": "stream",
     "text": [
      "{'name': 'Bilal', 'Product_Name': 'Ice Cream', 'Company': ['Walls', 'Pops'], 'Price': 10}\n"
     ]
    }
   ],
   "source": [
    "dic_produt.update( {'name':'Bilal','Product_Name':'Ice Cream','Company':['Walls','Pops'],'Price':10})\n",
    "\n",
    "print(dic_produt)"
   ]
  },
  {
   "cell_type": "code",
   "execution_count": 30,
   "id": "2e200d63",
   "metadata": {},
   "outputs": [],
   "source": [
    "del dic_produt['Price']"
   ]
  },
  {
   "cell_type": "code",
   "execution_count": 31,
   "id": "963cab77",
   "metadata": {},
   "outputs": [
    {
     "name": "stdout",
     "output_type": "stream",
     "text": [
      "{'name': 'Bilal', 'Product_Name': 'Ice Cream', 'Company': ['Walls', 'Pops']}\n"
     ]
    }
   ],
   "source": [
    "print(dic_produt)"
   ]
  },
  {
   "cell_type": "code",
   "execution_count": null,
   "id": "1b0ba0e1",
   "metadata": {},
   "outputs": [],
   "source": []
  }
 ],
 "metadata": {
  "kernelspec": {
   "display_name": "Python 3 (ipykernel)",
   "language": "python",
   "name": "python3"
  },
  "language_info": {
   "codemirror_mode": {
    "name": "ipython",
    "version": 3
   },
   "file_extension": ".py",
   "mimetype": "text/x-python",
   "name": "python",
   "nbconvert_exporter": "python",
   "pygments_lexer": "ipython3",
   "version": "3.10.9"
  }
 },
 "nbformat": 4,
 "nbformat_minor": 5
}
