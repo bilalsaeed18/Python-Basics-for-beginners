{
 "cells": [
  {
   "cell_type": "markdown",
   "id": "b28363b7",
   "metadata": {},
   "source": [
    "# IF - ELSE Statement"
   ]
  },
  {
   "cell_type": "code",
   "execution_count": 1,
   "id": "8f01ca6c",
   "metadata": {},
   "outputs": [
    {
     "name": "stdout",
     "output_type": "stream",
     "text": [
      "Worked\n"
     ]
    }
   ],
   "source": [
    "if 25 > 10:\n",
    "    print('Worked')\n",
    "    "
   ]
  },
  {
   "cell_type": "code",
   "execution_count": 4,
   "id": "298c23e0",
   "metadata": {},
   "outputs": [
    {
     "name": "stdout",
     "output_type": "stream",
     "text": [
      "Not Worked\n"
     ]
    }
   ],
   "source": [
    "if 25 < 10:\n",
    "    print('Worked')\n",
    "else: \n",
    "    print('Not Worked')"
   ]
  },
  {
   "cell_type": "code",
   "execution_count": null,
   "id": "4faaf419",
   "metadata": {},
   "outputs": [],
   "source": []
  }
 ],
 "metadata": {
  "kernelspec": {
   "display_name": "Python 3 (ipykernel)",
   "language": "python",
   "name": "python3"
  },
  "language_info": {
   "codemirror_mode": {
    "name": "ipython",
    "version": 3
   },
   "file_extension": ".py",
   "mimetype": "text/x-python",
   "name": "python",
   "nbconvert_exporter": "python",
   "pygments_lexer": "ipython3",
   "version": "3.10.9"
  }
 },
 "nbformat": 4,
 "nbformat_minor": 5
}
