{
 "cells": [
  {
   "cell_type": "markdown",
   "id": "0c0f03ca",
   "metadata": {},
   "source": [
    "# Variables"
   ]
  },
  {
   "cell_type": "markdown",
   "id": "377c1bc9",
   "metadata": {},
   "source": [
    "A Python variable is a reserved memory location to store values. In other words, a variable in a python program gives data to the computer for processing. Every value in Python has a datatype. Different data types in Python are Numbers, List, Tuple, Strings, Dictionary, etc. Variables can be declared by any name or even alphabets like a, aa, abc, etc "
   ]
  },
  {
   "cell_type": "code",
   "execution_count": 2,
   "id": "328b5347",
   "metadata": {},
   "outputs": [
    {
     "name": "stdout",
     "output_type": "stream",
     "text": [
      "30\n"
     ]
    }
   ],
   "source": [
    "x = 30\n",
    "\n",
    "print(x)"
   ]
  },
  {
   "cell_type": "code",
   "execution_count": 3,
   "id": "edf9b7fa",
   "metadata": {},
   "outputs": [
    {
     "data": {
      "text/plain": [
       "int"
      ]
     },
     "execution_count": 3,
     "metadata": {},
     "output_type": "execute_result"
    }
   ],
   "source": [
    "type(x)"
   ]
  },
  {
   "cell_type": "code",
   "execution_count": 4,
   "id": "36a72869",
   "metadata": {},
   "outputs": [],
   "source": [
    "y = 'My name is Bilal'"
   ]
  },
  {
   "cell_type": "code",
   "execution_count": 5,
   "id": "8141294a",
   "metadata": {},
   "outputs": [
    {
     "name": "stdout",
     "output_type": "stream",
     "text": [
      "My name is Bilal\n"
     ]
    }
   ],
   "source": [
    "print(y)"
   ]
  },
  {
   "cell_type": "code",
   "execution_count": 6,
   "id": "8173fa07",
   "metadata": {},
   "outputs": [
    {
     "data": {
      "text/plain": [
       "str"
      ]
     },
     "execution_count": 6,
     "metadata": {},
     "output_type": "execute_result"
    }
   ],
   "source": [
    "type(y)"
   ]
  },
  {
   "cell_type": "code",
   "execution_count": 7,
   "id": "d59d12b8",
   "metadata": {},
   "outputs": [
    {
     "name": "stdout",
     "output_type": "stream",
     "text": [
      "Bilal Saeed\n",
      "Ali\n"
     ]
    }
   ],
   "source": [
    "y ='Bilal Saeed'\n",
    "\n",
    "Y = 'Ali'\n",
    "\n",
    "print(y)\n",
    "print(Y)"
   ]
  },
  {
   "cell_type": "code",
   "execution_count": 8,
   "id": "c6a0f595",
   "metadata": {},
   "outputs": [
    {
     "name": "stdout",
     "output_type": "stream",
     "text": [
      "Ali\n",
      "Rocky\n",
      "20\n"
     ]
    }
   ],
   "source": [
    "X,Y,Z = 'Ali', 'Rocky', 20\n",
    "print(X)\n",
    "print(Y)\n",
    "print(Z)"
   ]
  },
  {
   "cell_type": "code",
   "execution_count": 9,
   "id": "1def7abf",
   "metadata": {},
   "outputs": [
    {
     "name": "stdout",
     "output_type": "stream",
     "text": [
      "Imran Khan\n",
      "Imran Khan\n",
      "Imran Khan\n"
     ]
    }
   ],
   "source": [
    "A =B = C = 'Imran Khan'\n",
    "print(A)\n",
    "print(B)\n",
    "print(C)"
   ]
  },
  {
   "cell_type": "code",
   "execution_count": 10,
   "id": "5b554864",
   "metadata": {},
   "outputs": [
    {
     "name": "stdout",
     "output_type": "stream",
     "text": [
      "Chocolate\n",
      "valina\n",
      "Apple\n"
     ]
    }
   ],
   "source": [
    "ice_cream = ['Chocolate', 'valina', 'Apple']\n",
    "\n",
    "x,y,z = ice_cream\n",
    "\n",
    "print(x)\n",
    "print(y)\n",
    "print(z)"
   ]
  },
  {
   "cell_type": "code",
   "execution_count": 11,
   "id": "7f6c49cc",
   "metadata": {},
   "outputs": [],
   "source": [
    "# camel case\n",
    "testVariable =  'Vanilla'\n",
    "\n",
    "# Pascal case\n",
    "TestVariable =  'Vanilla'\n",
    "\n",
    "# Snake Case\n",
    "test_variable =  'Vanilla'"
   ]
  },
  {
   "cell_type": "code",
   "execution_count": 12,
   "id": "3eafb7b6",
   "metadata": {},
   "outputs": [
    {
     "name": "stdout",
     "output_type": "stream",
     "text": [
      "Vanilla\n"
     ]
    }
   ],
   "source": [
    "print(test_variable)"
   ]
  },
  {
   "cell_type": "code",
   "execution_count": 13,
   "id": "bb8f6d85",
   "metadata": {},
   "outputs": [
    {
     "name": "stdout",
     "output_type": "stream",
     "text": [
      "15\n"
     ]
    }
   ],
   "source": [
    "x=2\n",
    "y=5\n",
    "z=8\n",
    "\n",
    "print(x+y+z)"
   ]
  },
  {
   "cell_type": "code",
   "execution_count": 14,
   "id": "e9203b95",
   "metadata": {},
   "outputs": [
    {
     "name": "stdout",
     "output_type": "stream",
     "text": [
      "Valina is  5\n"
     ]
    }
   ],
   "source": [
    "x=\"Valina is \"\n",
    "y=5\n",
    "\n",
    "\n",
    "print(x,y)"
   ]
  },
  {
   "cell_type": "code",
   "execution_count": null,
   "id": "4a634fe2",
   "metadata": {},
   "outputs": [],
   "source": []
  }
 ],
 "metadata": {
  "kernelspec": {
   "display_name": "Python 3 (ipykernel)",
   "language": "python",
   "name": "python3"
  },
  "language_info": {
   "codemirror_mode": {
    "name": "ipython",
    "version": 3
   },
   "file_extension": ".py",
   "mimetype": "text/x-python",
   "name": "python",
   "nbconvert_exporter": "python",
   "pygments_lexer": "ipython3",
   "version": "3.12.4"
  }
 },
 "nbformat": 4,
 "nbformat_minor": 5
}
