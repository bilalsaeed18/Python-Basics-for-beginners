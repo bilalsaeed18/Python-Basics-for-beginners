{
 "cells": [
  {
   "cell_type": "markdown",
   "id": "d8b53341",
   "metadata": {},
   "source": [
    "# Functions"
   ]
  },
  {
   "cell_type": "markdown",
   "id": "4a8c3ae8",
   "metadata": {},
   "source": [
    "The while loop is used when we don't know the number of times it will repeat. If that number is infinite, or the Boolean condition of the loop never gets set to False, then it will run forever."
   ]
  },
  {
   "cell_type": "code",
   "execution_count": 1,
   "id": "6ca1d250",
   "metadata": {},
   "outputs": [],
   "source": [
    "def demo_func():\n",
    "    print('Our first function')"
   ]
  },
  {
   "cell_type": "code",
   "execution_count": 2,
   "id": "69457737",
   "metadata": {},
   "outputs": [
    {
     "name": "stdout",
     "output_type": "stream",
     "text": [
      "Our first function\n"
     ]
    }
   ],
   "source": [
    "demo_func()"
   ]
  },
  {
   "cell_type": "code",
   "execution_count": 3,
   "id": "7e7ead1d",
   "metadata": {},
   "outputs": [],
   "source": [
    "def number_squared(number):\n",
    "    print(number**2)"
   ]
  },
  {
   "cell_type": "code",
   "execution_count": 4,
   "id": "1bba1b86",
   "metadata": {},
   "outputs": [
    {
     "name": "stdout",
     "output_type": "stream",
     "text": [
      "25\n"
     ]
    }
   ],
   "source": [
    "number_squared(5)"
   ]
  },
  {
   "cell_type": "code",
   "execution_count": 5,
   "id": "98d6c5bc",
   "metadata": {},
   "outputs": [
    {
     "name": "stdout",
     "output_type": "stream",
     "text": [
      "3125\n"
     ]
    }
   ],
   "source": [
    "def number_squared(number, power):\n",
    "    print(number**power)\n",
    "number_squared(5, 5)"
   ]
  },
  {
   "cell_type": "code",
   "execution_count": 16,
   "id": "b74d854c",
   "metadata": {},
   "outputs": [],
   "source": [
    "args_tuple = (5,2,1,2,7)\n",
    "\n",
    "def number_args(*number):\n",
    "    print(number[0]*number[1])"
   ]
  },
  {
   "cell_type": "code",
   "execution_count": 17,
   "id": "522ea32d",
   "metadata": {},
   "outputs": [
    {
     "name": "stdout",
     "output_type": "stream",
     "text": [
      "10\n"
     ]
    }
   ],
   "source": [
    "number_args(*args_tuple)"
   ]
  },
  {
   "cell_type": "code",
   "execution_count": 18,
   "id": "2adb0b6a",
   "metadata": {},
   "outputs": [],
   "source": [
    "def number_squared_cust(number, power):\n",
    "    print(number**power)"
   ]
  },
  {
   "cell_type": "code",
   "execution_count": 21,
   "id": "ac05928f",
   "metadata": {},
   "outputs": [
    {
     "name": "stdout",
     "output_type": "stream",
     "text": [
      "625\n"
     ]
    }
   ],
   "source": [
    "number_squared(number = 5, power = 4)"
   ]
  },
  {
   "cell_type": "code",
   "execution_count": 26,
   "id": "969eb8be",
   "metadata": {},
   "outputs": [],
   "source": [
    "def number_keywordarg(**number):\n",
    "    print('My nur is : '+ number['integar'] + ' My Other number is: ' + number['integar2'])"
   ]
  },
  {
   "cell_type": "code",
   "execution_count": 27,
   "id": "2a725592",
   "metadata": {},
   "outputs": [
    {
     "name": "stdout",
     "output_type": "stream",
     "text": [
      "My nur is : 1200 My Other number is: 7\n"
     ]
    }
   ],
   "source": [
    "number_keywordarg(integar = '1200', integar2 = '7')"
   ]
  },
  {
   "cell_type": "code",
   "execution_count": null,
   "id": "ac36c754",
   "metadata": {},
   "outputs": [],
   "source": []
  }
 ],
 "metadata": {
  "kernelspec": {
   "display_name": "Python 3 (ipykernel)",
   "language": "python",
   "name": "python3"
  },
  "language_info": {
   "codemirror_mode": {
    "name": "ipython",
    "version": 3
   },
   "file_extension": ".py",
   "mimetype": "text/x-python",
   "name": "python",
   "nbconvert_exporter": "python",
   "pygments_lexer": "ipython3",
   "version": "3.10.9"
  }
 },
 "nbformat": 4,
 "nbformat_minor": 5
}
