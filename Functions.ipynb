{
 "cells": [
  {
   "cell_type": "markdown",
   "id": "831235d3",
   "metadata": {},
   "source": [
    "# Functions"
   ]
  },
  {
   "cell_type": "markdown",
   "id": "df9ff7b3",
   "metadata": {},
   "source": [
    "The while loop is used when we don't know the number of times it will repeat. If that number is infinite, or the Boolean condition of the loop never gets set to False, then it will run forever."
   ]
  },
  {
   "cell_type": "code",
   "execution_count": 1,
   "id": "fb20483c",
   "metadata": {},
   "outputs": [],
   "source": [
    "def demo_func():\n",
    "    print('Our first function')"
   ]
  },
  {
   "cell_type": "code",
   "execution_count": 2,
   "id": "da3f7057",
   "metadata": {},
   "outputs": [
    {
     "name": "stdout",
     "output_type": "stream",
     "text": [
      "Our first function\n"
     ]
    }
   ],
   "source": [
    "demo_func()"
   ]
  },
  {
   "cell_type": "code",
   "execution_count": null,
   "id": "a3475f1c",
   "metadata": {},
   "outputs": [],
   "source": []
  }
 ],
 "metadata": {
  "kernelspec": {
   "display_name": "Python 3 (ipykernel)",
   "language": "python",
   "name": "python3"
  },
  "language_info": {
   "codemirror_mode": {
    "name": "ipython",
    "version": 3
   },
   "file_extension": ".py",
   "mimetype": "text/x-python",
   "name": "python",
   "nbconvert_exporter": "python",
   "pygments_lexer": "ipython3",
   "version": "3.10.9"
  }
 },
 "nbformat": 4,
 "nbformat_minor": 5
}
