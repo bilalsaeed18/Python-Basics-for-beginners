{
 "cells": [
  {
   "cell_type": "markdown",
   "id": "d8b53341",
   "metadata": {},
   "source": [
    "# Functions"
   ]
  },
  {
   "cell_type": "markdown",
   "id": "4a8c3ae8",
   "metadata": {},
   "source": [
    "The while loop is used when we don't know the number of times it will repeat. If that number is infinite, or the Boolean condition of the loop never gets set to False, then it will run forever."
   ]
  },
  {
   "cell_type": "code",
   "execution_count": 1,
   "id": "6ca1d250",
   "metadata": {},
   "outputs": [],
   "source": [
    "def demo_func():\n",
    "    print('Our first function')"
   ]
  },
  {
   "cell_type": "code",
   "execution_count": 2,
   "id": "69457737",
   "metadata": {},
   "outputs": [
    {
     "name": "stdout",
     "output_type": "stream",
     "text": [
      "Our first function\n"
     ]
    }
   ],
   "source": [
    "demo_func()"
   ]
  },
  {
   "cell_type": "code",
   "execution_count": 5,
   "id": "7e7ead1d",
   "metadata": {},
   "outputs": [],
   "source": [
    "def number_squared(number):\n",
    "    print(number**2)"
   ]
  },
  {
   "cell_type": "code",
   "execution_count": 6,
   "id": "1bba1b86",
   "metadata": {},
   "outputs": [
    {
     "name": "stdout",
     "output_type": "stream",
     "text": [
      "25\n"
     ]
    }
   ],
   "source": [
    "number_squared(5)"
   ]
  },
  {
   "cell_type": "code",
   "execution_count": 7,
   "id": "98d6c5bc",
   "metadata": {},
   "outputs": [
    {
     "name": "stdout",
     "output_type": "stream",
     "text": [
      "3125\n"
     ]
    }
   ],
   "source": [
    "def number_squared(number, power):\n",
    "    print(number**power)\n",
    "number_squared(5, 5)"
   ]
  },
  {
   "cell_type": "code",
   "execution_count": null,
   "id": "b74d854c",
   "metadata": {},
   "outputs": [],
   "source": [
    "def number_args(*args):"
   ]
  }
 ],
 "metadata": {
  "kernelspec": {
   "display_name": "Python 3 (ipykernel)",
   "language": "python",
   "name": "python3"
  },
  "language_info": {
   "codemirror_mode": {
    "name": "ipython",
    "version": 3
   },
   "file_extension": ".py",
   "mimetype": "text/x-python",
   "name": "python",
   "nbconvert_exporter": "python",
   "pygments_lexer": "ipython3",
   "version": "3.10.9"
  }
 },
 "nbformat": 4,
 "nbformat_minor": 5
}
